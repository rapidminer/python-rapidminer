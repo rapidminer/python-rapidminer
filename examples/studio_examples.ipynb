{
 "cells": [
  {
   "cell_type": "markdown",
   "metadata": {},
   "source": [
    "# Tutorial for working with Altair AI Studio\n",
    "\n",
    "In order to use this notebook you need to have the [rapidminer](https://github.com/rapidminer/python-rapidminer-beta) package installed in your current python environment. For installation instructions, consult the [README](https://github.com/rapidminer/python-rapidminer-beta#rapidminer-python-package---beta-version).\n"
   ]
  },
  {
   "cell_type": "markdown",
   "metadata": {},
   "source": [
    "### Connect to local Studio instance\n",
    "\n",
    "In order to connect set the `rm_home` variable to the installation directory of your AI Studio!"
   ]
  },
  {
   "cell_type": "code",
   "execution_count": null,
   "metadata": {},
   "outputs": [],
   "source": [
    "import rapidminer\n",
    "import os\n",
    "rm_home=\"<set it first please to the installation directory of Studio>\"\n",
    "# If you don't want to see the log messages of the operations, use rm_stdout=open(os.devnull,\"w\")\n",
    "connector = rapidminer.Studio(rm_home, rm_stdout=None)"
   ]
  },
  {
   "cell_type": "markdown",
   "metadata": {},
   "source": [
    "### Reading ExampleSets"
   ]
  },
  {
   "cell_type": "code",
   "execution_count": null,
   "metadata": {},
   "outputs": [],
   "source": [
    "df = connector.read_resource(\"//Samples/data/Iris\")\n",
    "print(\"The result is a pandas DataFrame:\")\n",
    "print(df.head())"
   ]
  },
  {
   "cell_type": "markdown",
   "metadata": {},
   "source": [
    "The operation will launch an Altair AI Studio instance in the background. This could take a few seconds. If you need to read multiple entries, you can speed up the operation by passing multiple repository paths to the method:"
   ]
  },
  {
   "cell_type": "code",
   "execution_count": null,
   "metadata": {},
   "outputs": [],
   "source": [
    "iris, deals, golf = connector.read_resource([\"//Samples/data/Iris\", \"//Samples/data/Deals\", \"//Samples/data/Golf\"])\n",
    "print(\"The result are pandas DataFrames\")\n",
    "print(iris.head(1))\n",
    "print(deals.head(1))\n",
    "print(golf.head(1))"
   ]
  },
  {
   "cell_type": "markdown",
   "metadata": {},
   "source": [
    "If you have repository files outside of a repository, you can read them as well: "
   ]
  },
  {
   "cell_type": "code",
   "execution_count": null,
   "metadata": {},
   "outputs": [],
   "source": [
    "# set the parameter to an existing .ioo file\n",
    "df = connector.read_resource(rapidminer.File(\"C:\\path\\to\\my\\data.ioo\"))"
   ]
  },
  {
   "cell_type": "markdown",
   "metadata": {},
   "source": [
    "You can specify repository locations, with the `rapidminer.RepositoryLocation` objects as well. (But this is not necessary, since string parameters are treated as repository locations.) In this example, we also increased the loglevel so that fewer entries are logged to the console."
   ]
  },
  {
   "cell_type": "code",
   "execution_count": null,
   "metadata": {},
   "outputs": [],
   "source": [
    "import logging\n",
    "connector.logger.setLevel(logging.WARNING)\n",
    "df = connector.read_resource(rapidminer.RepositoryLocation(name=\"//Samples/data/Iris\"))"
   ]
  },
  {
   "cell_type": "markdown",
   "metadata": {},
   "source": [
    "### Writing ExampleSets"
   ]
  },
  {
   "cell_type": "code",
   "execution_count": null,
   "metadata": {},
   "outputs": [],
   "source": [
    "import pandas\n",
    "from sklearn.datasets import load_iris\n",
    "\n",
    "sklearn_iris = load_iris()\n",
    "iris = pandas.DataFrame(sklearn_iris[\"data\"], columns=sklearn_iris[\"feature_names\"])\n",
    "iris[\"target\"] = sklearn_iris[\"target\"]"
   ]
  },
  {
   "cell_type": "code",
   "execution_count": null,
   "metadata": {},
   "outputs": [],
   "source": [
    "# set the parameter to the desired repository location\n",
    "connector.write_resource(iris, \"//Local Repository/data/Iris\")"
   ]
  },
  {
   "cell_type": "markdown",
   "metadata": {},
   "source": [
    "You can write multiple processes in the same method call as well:"
   ]
  },
  {
   "cell_type": "code",
   "execution_count": null,
   "metadata": {},
   "outputs": [],
   "source": [
    "from sklearn.datasets import load_wine\n",
    "sklearn_wine = load_wine()\n",
    "wine = pandas.DataFrame(sklearn_wine[\"data\"], columns=sklearn_wine[\"feature_names\"])\n",
    "wine[\"target\"] = sklearn_wine[\"target\"]\n",
    "# set the parameter to the desired repository locations\n",
    "connector.write_resource([iris, wine], [\"//Local Repository/data/Iris\", \"//Local Repository/data/Wine\"])"
   ]
  },
  {
   "cell_type": "markdown",
   "metadata": {},
   "source": [
    "As with reading resources, you can also write resources to regular files, outside any RapidMiner repository:"
   ]
  },
  {
   "cell_type": "code",
   "execution_count": null,
   "metadata": {},
   "outputs": [],
   "source": [
    "# set the parameter to the desired file\n",
    "connector.write_resource(iris, rapidminer.File(\"C:\\path\\to\\the\\output\\file.ioo\"))"
   ]
  },
  {
   "cell_type": "markdown",
   "metadata": {},
   "source": [
    "You can also save any python object, including pandas models, and use them later with the `read_resource` method:"
   ]
  },
  {
   "cell_type": "code",
   "execution_count": null,
   "metadata": {},
   "outputs": [],
   "source": [
    "from sklearn.tree import DecisionTreeClassifier\n",
    "clf = DecisionTreeClassifier(random_state=0)\n",
    "clf.fit(iris[sklearn_iris[\"feature_names\"]], iris[\"target\"])\n",
    "# set the parameter to the desired repository location\n",
    "connector.write_resource(clf, \"//Local Repository/data/IrisModel\")"
   ]
  },
  {
   "cell_type": "markdown",
   "metadata": {},
   "source": [
    "### Running a RapidMiner process\n",
    "You can simply start a process an get the results with one method:"
   ]
  },
  {
   "cell_type": "code",
   "execution_count": null,
   "metadata": {},
   "outputs": [],
   "source": [
    "normalized_iris = connector.run_process(\"//Samples/processes/02_Preprocessing/01_Normalization\")"
   ]
  },
  {
   "cell_type": "markdown",
   "metadata": {},
   "source": [
    "You can also define inputs, run only a single operator, define values for macros. For example:"
   ]
  },
  {
   "cell_type": "code",
   "execution_count": null,
   "metadata": {},
   "outputs": [],
   "source": [
    "import pandas\n",
    "from sklearn.datasets import load_wine\n",
    "sklearn_wine = load_wine()\n",
    "wine = pandas.DataFrame(sklearn_wine[\"data\"], columns=sklearn_wine[\"feature_names\"])\n",
    "wine[\"target\"] = sklearn_wine[\"target\"]\n",
    "wine[\"correlated1\"] = wine[\"alcohol\"]*2\n",
    "wine[\"correlated2\"] = wine[\"alcohol\"]+wine[\"magnesium\"]"
   ]
  },
  {
   "cell_type": "code",
   "execution_count": null,
   "metadata": {},
   "outputs": [],
   "source": [
    "normalized_wine, original = connector.run_process(\"//Samples/processes/04_Attributes/01_RemoveCorrelatedFeatures\", \n",
    "                                                  inputs=wine, \n",
    "                                                  operator=\"RemoveCorrelatedFeatures\")"
   ]
  }
 ],
 "metadata": {
  "language_info": {
   "codemirror_mode": {
    "name": "ipython",
    "version": 3
   },
   "file_extension": ".py",
   "mimetype": "text/x-python",
   "name": "python",
   "nbconvert_exporter": "python",
   "pygments_lexer": "ipython3",
   "version": "3.7.2"
  }
 },
 "nbformat": 4,
 "nbformat_minor": 2
}
