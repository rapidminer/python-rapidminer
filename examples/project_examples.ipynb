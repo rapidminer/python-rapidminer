{
 "cells": [
  {
   "cell_type": "markdown",
   "metadata": {},
   "source": [
    "# Tutorial for working with Projects\n",
    "\n",
    "In order to use this notebook you need to have the [rapidminer](https://github.com/rapidminer/python-rapidminer) package installed in your current Python environment. For installation instructions, consult the [README](https://github.com/rapidminer/python-rapidminer).\n"
   ]
  },
  {
   "cell_type": "markdown",
   "metadata": {},
   "source": [
    "### Reading and Writing Data from Projects\n",
    "\n",
    "You can easily read from and write to Altair AI Hub projects. For this you have to clone the project using git. The examples below use the git client via the terminal, so you need these commands to work on your system.\n",
    "\n",
    "Let's assume, AI Hub is running at localhost and uses the default port. The next two lines will clone the sample-dev project into a subdirectory under the _/work_ folder:"
   ]
  },
  {
   "cell_type": "code",
   "execution_count": null,
   "metadata": {},
   "outputs": [],
   "source": [
    "%cd ~/work\n",
    "!git clone http://localhost:8080/executions/git/sample-dev.git || (cd sample-dev && git pull origin master && git checkout master && cd ..)"
   ]
  },
  {
   "cell_type": "markdown",
   "metadata": {},
   "source": [
    "Now you can refer to the project and read the Iris dataset into a pandas DataFrame:"
   ]
  },
  {
   "cell_type": "code",
   "execution_count": null,
   "metadata": {},
   "outputs": [],
   "source": [
    "%cd ~/work\n",
    "import rapidminer\n",
    "sample = rapidminer.Project(\"sample-dev\")\n",
    "iris = sample.read(\"data/Iris\")\n",
    "iris"
   ]
  },
  {
   "cell_type": "markdown",
   "metadata": {},
   "source": [
    "Let's create a similar dataset, which we will upload."
   ]
  },
  {
   "cell_type": "code",
   "execution_count": null,
   "metadata": {},
   "outputs": [],
   "source": [
    "import pandas\n",
    "from sklearn.datasets import load_wine\n",
    "\n",
    "sklearn_wine = load_wine()\n",
    "wine = pandas.DataFrame(sklearn_wine[\"data\"], columns=sklearn_wine[\"feature_names\"])\n",
    "wine[\"target\"] = sklearn_wine[\"target\"]"
   ]
  },
  {
   "cell_type": "markdown",
   "metadata": {},
   "source": [
    "Writing a pandas DataFrame is this simple:"
   ]
  },
  {
   "cell_type": "code",
   "execution_count": null,
   "metadata": {},
   "outputs": [],
   "source": [
    "sample.write(wine, \"data/wine\")"
   ]
  },
  {
   "cell_type": "markdown",
   "metadata": {},
   "source": [
    "*Remember to commit and push your changes to the Altair AI Hub project.* Uncomment next code block if you want to do so (or use the git panel, shown on the left by default). Note that the git client must have Git LFS support. The LFS url of the repository is set automatically."
   ]
  },
  {
   "cell_type": "code",
   "execution_count": null,
   "metadata": {},
   "outputs": [],
   "source": [
    "#%cd sample-dev\n",
    "#!git add data/wine.rmhdf5table\n",
    "#!git commit -m \"creating wine dataset\"\n",
    "#!git push -u origin master\n",
    "#%cd .."
   ]
  },
  {
   "cell_type": "markdown",
   "metadata": {},
   "source": [
    "### Using Connections from a Project\n",
    "\n",
    "You can access connections of a project easily. You have access to the connection fields and can use them to initiate connection to external systems without the need to input any value on the Python side."
   ]
  },
  {
   "cell_type": "code",
   "execution_count": null,
   "metadata": {},
   "outputs": [],
   "source": [
    "import rapidminer\n",
    "%cd ~/work\n",
    "connections = rapidminer.Connections(\"sample-dev\", server=rapidminer.Server(\"https://myserver.mycompany.com:8080\", authentication_server=\"https:///myserver.mycompany.com:8081/auth\", offline_token=\"qwert12345\", client_secret=\"qwert12345\"))"
   ]
  },
  {
   "cell_type": "markdown",
   "metadata": {},
   "source": [
    "Here, we already pointed to a [Server](server_examples.ipynb) instance. That is only necessary if you have encrypted connection fields or use the AI Hub Vault to store certain sensitive values."
   ]
  },
  {
   "cell_type": "markdown",
   "metadata": {},
   "source": [
    "Let's connect to a PostgreSQL database using one of the connections of the project and read a DataFrame directly from it:"
   ]
  },
  {
   "cell_type": "code",
   "execution_count": null,
   "metadata": {},
   "outputs": [],
   "source": [
    "from sqlalchemy import create_engine\n",
    "postgres_str = ('postgresql://{username}:{password}@{host}:{port}/{dbname}'\n",
    "    .format(username=conn.user,\n",
    "        password=conn.password,\n",
    "        host=conn.values[\"host\"],\n",
    "        port=conn.values[\"port\"],\n",
    "        dbname=db_name\n",
    "    )\n",
    ")\n",
    "cnx = create_engine(postgres_str).raw_connection()\n",
    "pandas.read_sql_query(\"SELECT * FROM test_date_types_1\", con=cnx)"
   ]
  }
 ],
 "metadata": {
  "kernelspec": {
   "display_name": "Python 3",
   "language": "python",
   "name": "python3"
  },
  "language_info": {
   "codemirror_mode": {
    "name": "ipython",
    "version": 3
   },
   "file_extension": ".py",
   "mimetype": "text/x-python",
   "name": "python",
   "nbconvert_exporter": "python",
   "pygments_lexer": "ipython3",
   "version": "3.8.0"
  }
 },
 "nbformat": 4,
 "nbformat_minor": 4
}
