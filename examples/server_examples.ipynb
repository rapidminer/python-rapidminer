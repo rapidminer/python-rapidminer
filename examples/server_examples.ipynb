{
 "cells": [
  {
   "cell_type": "markdown",
   "metadata": {},
   "source": [
    "# Tutorial for working with RapidMiner AI Hub\n",
    "\n",
    "In order to use this notebook you need to have the [rapidminer](https://github.com/rapidminer/python-rapidminer) package installed in your current Python environment. For installation instructions, consult the [README](https://github.com/rapidminer/python-rapidminer).\n"
   ]
  },
  {
   "cell_type": "markdown",
   "metadata": {},
   "source": [
    "### Connect to RapidMiner AI Hub\n",
    "\n",
    "In order to connect to RapidMiner AI Hub, provide an URL and your username. The package will first create a process and a webservice, which will serve your further requests. You will be asked for your password and a path to the process. If you want to fully automate the execution, you can provide both of these with additional parameters, besides other parameters as well. For more details, please consult the [documentation](https://github.com/rapidminer/python-rapidminer/blob/master/docs/api/Server.md)."
   ]
  },
  {
   "cell_type": "code",
   "execution_count": null,
   "metadata": {},
   "outputs": [],
   "source": [
    "import rapidminer\n",
    "username=\"<set it first please to your user name>\"\n",
    "# You can also provide your password with `password=\"*****\"` and a remote repository path with `processpath=\"/my/cusom/path\"` parameters\n",
    "connector = rapidminer.Server(url=\"http://localhost:8080\", username=username)"
   ]
  },
  {
   "cell_type": "markdown",
   "metadata": {},
   "source": [
    "The sections below explain how to use the AI Hub repository. For interacting with project, check out [Project examples](project_examples.ipynb)."
   ]
  },
  {
   "cell_type": "markdown",
   "metadata": {},
   "source": [
    "### Reading ExampleSets"
   ]
  },
  {
   "cell_type": "code",
   "execution_count": null,
   "metadata": {},
   "outputs": [],
   "source": [
    "df = connector.read_resource(\"//Samples/data/Iris\")\n",
    "print(\"The result is a pandas DataFrame:\")\n",
    "print(df.head())"
   ]
  },
  {
   "cell_type": "markdown",
   "metadata": {},
   "source": [
    "If you need to read multiple entries, you can pass mutliple paths to the method:"
   ]
  },
  {
   "cell_type": "code",
   "execution_count": null,
   "metadata": {},
   "outputs": [],
   "source": [
    "iris, deals, golf = connector.read_resource([\"//Samples/data/Iris\", \"//Samples/data/Deals\", \"//Samples/data/Golf\"])\n",
    "print(\"The result are pandas DataFrames\")\n",
    "print(iris.head(1))\n",
    "print(deals.head(1))\n",
    "print(golf.head(1))"
   ]
  },
  {
   "cell_type": "markdown",
   "metadata": {},
   "source": [
    "Bear in mind, that you don't have to specify the name of the repository (if you are not using the built-in *Samples* repository), simply define a path to your dataset:"
   ]
  },
  {
   "cell_type": "code",
   "execution_count": null,
   "metadata": {},
   "outputs": [],
   "source": [
    "# set the parameter to an existing ExampleSet\n",
    "df = connector.read_resource(\"/home/myuser/data/Golf\")"
   ]
  },
  {
   "cell_type": "markdown",
   "metadata": {},
   "source": [
    "Reading an ExampleSet from a RapidMiner AI Hub project is also simple, let's assume that the project is called *Sample-dev*:"
   ]
  },
  {
   "cell_type": "code",
   "execution_count": null,
   "metadata": {},
   "outputs": [],
   "source": [
    "df_iris = connector.read_resource(\"data/Iris\", project=\"sample-dev\")"
   ]
  },
  {
   "cell_type": "markdown",
   "metadata": {},
   "source": [
    "### Writing ExampleSets"
   ]
  },
  {
   "cell_type": "markdown",
   "metadata": {},
   "source": [
    "Once you have your data ready in pandas, you can upload it to RapidMiner AI Hub with a single method call (see in the second cell):"
   ]
  },
  {
   "cell_type": "code",
   "execution_count": null,
   "metadata": {},
   "outputs": [],
   "source": [
    "import pandas\n",
    "from sklearn.datasets import load_iris\n",
    "\n",
    "sklearn_iris = load_iris()\n",
    "iris = pandas.DataFrame(sklearn_iris[\"data\"], columns=sklearn_iris[\"feature_names\"])\n",
    "iris[\"target\"] = sklearn_iris[\"target\"]"
   ]
  },
  {
   "cell_type": "code",
   "execution_count": null,
   "metadata": {},
   "outputs": [],
   "source": [
    "# set the parameter to the desired repository location\n",
    "connector.write_resource(iris, \"/home/\" + username + \"/iris\")"
   ]
  },
  {
   "cell_type": "markdown",
   "metadata": {},
   "source": [
    "You can write multiple processes in the same method call as well:"
   ]
  },
  {
   "cell_type": "code",
   "execution_count": null,
   "metadata": {},
   "outputs": [],
   "source": [
    "from sklearn.datasets import load_wine\n",
    "sklearn_wine = load_wine()\n",
    "wine = pandas.DataFrame(sklearn_wine[\"data\"], columns=sklearn_wine[\"feature_names\"])\n",
    "wine[\"target\"] = sklearn_wine[\"target\"]\n",
    "# set the parameter to the desired repository locations\n",
    "connector.write_resource([iris, wine], [\"/home/\" + username + \"/iris\", \"/home/\" + username + \"/wine\"])"
   ]
  },
  {
   "cell_type": "markdown",
   "metadata": {},
   "source": [
    "Writing an ExampleSet back to a versioned RapidMiner AI Hub project requires you to use the [Project](https://github.com/rapidminer/python-rapidminer/blob/master/docs/api/Project.md) class and a git client."
   ]
  },
  {
   "cell_type": "markdown",
   "metadata": {},
   "source": [
    "### Running a RapidMiner process\n",
    "You can simply start a process an get the results with one method. It could take a few seconds, to get back the results as pandas DataFrames:"
   ]
  },
  {
   "cell_type": "code",
   "execution_count": null,
   "metadata": {},
   "outputs": [],
   "source": [
    "normalized_iris = connector.run_process(\"/home/\" + username + \"/process/normalize_data\", [iris])"
   ]
  },
  {
   "cell_type": "markdown",
   "metadata": {},
   "source": [
    "You can also define inputs, the queue to use and define values for macros. For example:"
   ]
  },
  {
   "cell_type": "code",
   "execution_count": null,
   "metadata": {},
   "outputs": [],
   "source": [
    "# set the parameters to the desired process, queue and macros\n",
    "transformed_wine = connector.run_process(\"/home/\" + username + \"/transform_inputs\", inputs=wine, queue=\"default\", macros={\"sample_size\" : 100})"
   ]
  },
  {
   "cell_type": "markdown",
   "metadata": {},
   "source": [
    "You can also run a process from a RapidMiner AI Hub project:"
   ]
  },
  {
   "cell_type": "code",
   "execution_count": null,
   "metadata": {},
   "outputs": [],
   "source": [
    "connector.run_process(\"processes/normalize_iris\", project=\"sample-dev\")"
   ]
  },
  {
   "cell_type": "markdown",
   "metadata": {},
   "source": [
    "### Using Connections\n",
    "Connections defined in the AI Hub repository are available using the following function:"
   ]
  },
  {
   "cell_type": "code",
   "execution_count": null,
   "metadata": {},
   "outputs": [],
   "source": [
    "connections = connector.get_connections()"
   ]
  },
  {
   "cell_type": "markdown",
   "metadata": {},
   "source": [
    "Accessing the field values of these connections are possible through several ways, see examples below. Use these values to establish a connection to a database, cloud service, etc. using an appropriate Python package (e.g. _sqlalchemy_)."
   ]
  },
  {
   "cell_type": "code",
   "execution_count": null,
   "metadata": {},
   "outputs": [],
   "source": [
    "from sqlalchemy import create_engine\n",
    "connection = connections[\"sample-postgres\"]\n",
    "postgres_str = ('postgresql://{username}:{password}@{host}:{port}/{dbname}'\n",
    "    .format(username=conn.user,\n",
    "        password=conn.password,\n",
    "        host=conn.values[\"host\"],\n",
    "        port=conn.values[\"port\"],\n",
    "        dbname=db_name\n",
    "    )\n",
    ")\n",
    "cnx = create_engine(postgres_str).raw_connection()\n",
    "pandas.read_sql_query(\"SELECT * FROM test_date_types_1\", con=cnx)"
   ]
  }
 ],
 "metadata": {
  "kernelspec": {
   "display_name": "Python 3",
   "language": "python",
   "name": "python3"
  },
  "language_info": {
   "codemirror_mode": {
    "name": "ipython",
    "version": 3
   },
   "file_extension": ".py",
   "mimetype": "text/x-python",
   "name": "python",
   "nbconvert_exporter": "python",
   "pygments_lexer": "ipython3",
   "version": "3.8.0"
  }
 },
 "nbformat": 4,
 "nbformat_minor": 4
}
